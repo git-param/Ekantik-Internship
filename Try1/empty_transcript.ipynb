{
 "cells": [
  {
   "cell_type": "code",
   "execution_count": 1,
   "id": "3aff4b5e-020b-45ab-94ae-4137fb421335",
   "metadata": {},
   "outputs": [],
   "source": [
    "import whisper\n",
    "import os\n",
    "import csv"
   ]
  },
  {
   "cell_type": "code",
   "execution_count": 2,
   "id": "f0b8d7e8-a2da-406d-84c8-3bf83e510650",
   "metadata": {},
   "outputs": [
    {
     "data": {
      "text/plain": [
       "0"
      ]
     },
     "execution_count": 2,
     "metadata": {},
     "output_type": "execute_result"
    }
   ],
   "source": [
    "video_url = \"https://youtu.be/oh5peU_Bjv8?si=uZ9Sq-4KAtAC3c3D\"\n",
    "os.system(f'yt-dlp -f bestaudio --extract-audio --audio-format mp3 -o \"video_audio.%(ext)s\" \"{video_url}\"')"
   ]
  },
  {
   "cell_type": "code",
   "execution_count": 3,
   "id": "c7ab6d74-e509-49da-b2c0-703edd1d92b2",
   "metadata": {},
   "outputs": [
    {
     "data": {
      "text/plain": [
       "True"
      ]
     },
     "execution_count": 3,
     "metadata": {},
     "output_type": "execute_result"
    }
   ],
   "source": [
    "os.path.exists(\"video_audio.mp3\")"
   ]
  },
  {
   "cell_type": "code",
   "execution_count": 4,
   "id": "ca660c10-506f-4267-99c0-7b7ee87b278a",
   "metadata": {},
   "outputs": [],
   "source": [
    "large_model=whisper.load_model(\"large\")"
   ]
  },
  {
   "cell_type": "code",
   "execution_count": null,
   "id": "b4c30799-e229-4013-90c1-ceb965dee879",
   "metadata": {
    "scrolled": true
   },
   "outputs": [
    {
     "name": "stderr",
     "output_type": "stream",
     "text": [
      "C:\\Users\\PARAM\\anaconda3\\Lib\\site-packages\\whisper\\transcribe.py:126: UserWarning: FP16 is not supported on CPU; using FP32 instead\n",
      "  warnings.warn(\"FP16 is not supported on CPU; using FP32 instead\")\n"
     ]
    }
   ],
   "source": [
    "result = large_model.transcribe(\"video_audio.mp3\", language=\"hi\", task=\"transcribe\")\n",
    "for segment in result[\"segments\"]:\n",
    "    print(f\"[{segment['start']:.2f} - {segment['end']:.2f}] {segment['text']}\")"
   ]
  },
  {
   "cell_type": "code",
   "execution_count": null,
   "id": "974c8f9d-7024-4cf6-ab84-3091b23e3c74",
   "metadata": {},
   "outputs": [],
   "source": [
    "with open(\"hindi_transcript_large.csv\", \"w\", newline='', encoding=\"utf-8\") as f:\n",
    "    writer = csv.writer(f)\n",
    "    writer.writerow([\"Start\", \"End\", \"Text\"])\n",
    "    for seg in result[\"segments\"]:\n",
    "        writer.writerow([seg[\"start\"], seg[\"end\"], seg[\"text\"]])"
   ]
  },
  {
   "cell_type": "markdown",
   "id": "9f1c1140-ad36-451f-bc7c-9ee3f70f6cdb",
   "metadata": {},
   "source": [
    "Time Taken for audio extraction: 1 min 20 s\n",
    "Time Taken for transcripting: "
   ]
  }
 ],
 "metadata": {
  "kernelspec": {
   "display_name": "Python 3 (ipykernel)",
   "language": "python",
   "name": "python3"
  },
  "language_info": {
   "codemirror_mode": {
    "name": "ipython",
    "version": 3
   },
   "file_extension": ".py",
   "mimetype": "text/x-python",
   "name": "python",
   "nbconvert_exporter": "python",
   "pygments_lexer": "ipython3",
   "version": "3.12.4"
  }
 },
 "nbformat": 4,
 "nbformat_minor": 5
}
